{
 "cells": [
  {
   "cell_type": "code",
   "execution_count": 8,
   "metadata": {},
   "outputs": [],
   "source": [
    "#Importação das bibliotecas\n",
    "import pandas as pd\n",
    "import datetime as dt"
   ]
  },
  {
   "cell_type": "code",
   "execution_count": 9,
   "metadata": {},
   "outputs": [
    {
     "data": {
      "text/html": [
       "<div>\n",
       "<style scoped>\n",
       "    .dataframe tbody tr th:only-of-type {\n",
       "        vertical-align: middle;\n",
       "    }\n",
       "\n",
       "    .dataframe tbody tr th {\n",
       "        vertical-align: top;\n",
       "    }\n",
       "\n",
       "    .dataframe thead th {\n",
       "        text-align: right;\n",
       "    }\n",
       "</style>\n",
       "<table border=\"1\" class=\"dataframe\">\n",
       "  <thead>\n",
       "    <tr style=\"text-align: right;\">\n",
       "      <th></th>\n",
       "      <th>Atributos em comum para os datasets netflix_titles.csv e amazon_prime_titles.csv</th>\n",
       "    </tr>\n",
       "  </thead>\n",
       "  <tbody>\n",
       "    <tr>\n",
       "      <th>0</th>\n",
       "      <td>1 show_id - Unique ID for every Movie / Tv Show</td>\n",
       "    </tr>\n",
       "    <tr>\n",
       "      <th>1</th>\n",
       "      <td>2 type - Identifier - A Movie or TV Show</td>\n",
       "    </tr>\n",
       "    <tr>\n",
       "      <th>2</th>\n",
       "      <td>3 title - Title of the Movie / Tv Show</td>\n",
       "    </tr>\n",
       "    <tr>\n",
       "      <th>3</th>\n",
       "      <td>4 director - Director of the Movie</td>\n",
       "    </tr>\n",
       "    <tr>\n",
       "      <th>4</th>\n",
       "      <td>5 cast - Actors involved in the movie / show</td>\n",
       "    </tr>\n",
       "    <tr>\n",
       "      <th>5</th>\n",
       "      <td>6 country - Country where the movie / show was...</td>\n",
       "    </tr>\n",
       "    <tr>\n",
       "      <th>6</th>\n",
       "      <td>7 data_added - Date it was added on Netflix or...</td>\n",
       "    </tr>\n",
       "    <tr>\n",
       "      <th>7</th>\n",
       "      <td>8 release_year - Actual Release year of the mo...</td>\n",
       "    </tr>\n",
       "    <tr>\n",
       "      <th>8</th>\n",
       "      <td>9 rating - TV Rating of the movie / show</td>\n",
       "    </tr>\n",
       "    <tr>\n",
       "      <th>9</th>\n",
       "      <td>10 duration - Total Duration - in minutes or n...</td>\n",
       "    </tr>\n",
       "  </tbody>\n",
       "</table>\n",
       "</div>"
      ],
      "text/plain": [
       "  Atributos em comum para os datasets netflix_titles.csv e amazon_prime_titles.csv\n",
       "0    1 show_id - Unique ID for every Movie / Tv Show                              \n",
       "1           2 type - Identifier - A Movie or TV Show                              \n",
       "2             3 title - Title of the Movie / Tv Show                              \n",
       "3                 4 director - Director of the Movie                              \n",
       "4       5 cast - Actors involved in the movie / show                              \n",
       "5  6 country - Country where the movie / show was...                              \n",
       "6  7 data_added - Date it was added on Netflix or...                              \n",
       "7  8 release_year - Actual Release year of the mo...                              \n",
       "8          9 rating - TV Rating of the movie / show                               \n",
       "9  10 duration - Total Duration - in minutes or n...                              "
      ]
     },
     "execution_count": 9,
     "metadata": {},
     "output_type": "execute_result"
    }
   ],
   "source": [
    "#leitura dos atributos comuns às duas bases#\n",
    "\n",
    "with open('attributes.txt', 'r') as atributos:\n",
    "    atributos.read()\n",
    "\n",
    "dfa = pd.read_csv('attributes.txt')\n",
    "dfa.rename(columns={'# Attributes for both netflix_titles.csv and amazon_prime_titles.csv datasets:': 'Atributos em comum para os datasets netflix_titles.csv e amazon_prime_titles.csv'}, inplace=True)\n",
    "dfa"
   ]
  },
  {
   "cell_type": "code",
   "execution_count": 12,
   "metadata": {},
   "outputs": [],
   "source": [
    "#leitura das bases amazon e netflix#\n",
    "\n",
    "dfamazon = pd.read_csv('amazon_prime_titles.csv', encoding='latin-1')\n",
    "dfamazon.insert(2, 'Empresa','Amazon')\n",
    "dfnetflix = pd.read_csv('netflix_titles.csv', encoding='latin-1')\n",
    "dfnetflix.insert(2, 'Empresa','Netflix')\n",
    "\n",
    "#conferencia do tipo de dados das fontes\n",
    "\n",
    "'''dfamazon.dtypes\n",
    "dfnetflix.dtypes'''\n",
    "\n",
    "#concatenando as bases, definindo chave para identificação, renomeando os campos e estruturação#\n",
    "\n",
    "geral = pd.concat([dfamazon, dfnetflix], ignore_index= True)\n",
    "\n",
    "geral['id'] = geral['Empresa'] + geral['show_id']\n",
    "\n",
    "geral.rename(columns={'show_id':'id_original','type': 'Tipo', 'title': 'Titulo', 'director': 'Diretor', 'cast': 'Elenco', 'country': 'País', 'date_added': 'Data_Adicao', 'release_year': 'Lançamento', 'rating': 'Classificacao', 'duration': 'Duracao', 'listed_in': 'Genero', 'description': 'Descricao'}, inplace= True)\n",
    "\n",
    "geral['Data_Adicao'] = geral['Data_Adicao'].astype('datetime64')"
   ]
  },
  {
   "attachments": {},
   "cell_type": "markdown",
   "metadata": {},
   "source": [
    "Análise Exploratória "
   ]
  },
  {
   "cell_type": "markdown",
   "metadata": {},
   "source": [
    "Tamanho do Dataset"
   ]
  },
  {
   "cell_type": "code",
   "execution_count": null,
   "metadata": {},
   "outputs": [],
   "source": [
    "geral.head\n",
    "geral.tail\n",
    "geral.shape\n",
    "display(geral)"
   ]
  },
  {
   "attachments": {},
   "cell_type": "markdown",
   "metadata": {},
   "source": [
    "Descobrindo o período da análise."
   ]
  },
  {
   "cell_type": "code",
   "execution_count": null,
   "metadata": {},
   "outputs": [],
   "source": [
    "inicio = pd.to_datetime(geral['Data_Adicao']).dt.date\n",
    "print('O período de início é',min(inicio))\n",
    "\n",
    "fim = pd.to_datetime(geral['Data_Adicao']).dt.date\n",
    "print('O período final é',max(inicio))"
   ]
  },
  {
   "attachments": {},
   "cell_type": "markdown",
   "metadata": {},
   "source": [
    "Valores nulos e tipos de dados"
   ]
  },
  {
   "cell_type": "code",
   "execution_count": null,
   "metadata": {},
   "outputs": [],
   "source": [
    "geral.info()"
   ]
  },
  {
   "attachments": {},
   "cell_type": "markdown",
   "metadata": {},
   "source": [
    "Verificando o tipo de dados"
   ]
  },
  {
   "cell_type": "code",
   "execution_count": null,
   "metadata": {},
   "outputs": [],
   "source": [
    "geral.dtypes"
   ]
  },
  {
   "attachments": {},
   "cell_type": "markdown",
   "metadata": {},
   "source": [
    "Verificando a existência de valores nulos"
   ]
  },
  {
   "cell_type": "code",
   "execution_count": null,
   "metadata": {},
   "outputs": [],
   "source": [
    "geral.isnull().sum()"
   ]
  },
  {
   "attachments": {},
   "cell_type": "markdown",
   "metadata": {},
   "source": [
    "Analisando informações estatísticas"
   ]
  },
  {
   "cell_type": "code",
   "execution_count": null,
   "metadata": {},
   "outputs": [],
   "source": [
    "geral.describe()"
   ]
  }
 ],
 "metadata": {
  "kernelspec": {
   "display_name": "base",
   "language": "python",
   "name": "python3"
  },
  "language_info": {
   "codemirror_mode": {
    "name": "ipython",
    "version": 3
   },
   "file_extension": ".py",
   "mimetype": "text/x-python",
   "name": "python",
   "nbconvert_exporter": "python",
   "pygments_lexer": "ipython3",
   "version": "3.9.13"
  },
  "orig_nbformat": 4
 },
 "nbformat": 4,
 "nbformat_minor": 2
}
